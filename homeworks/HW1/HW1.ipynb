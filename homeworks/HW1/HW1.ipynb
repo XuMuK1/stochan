{
 "cells": [
  {
   "attachments": {},
   "cell_type": "markdown",
   "metadata": {},
   "source": [
    "# Стохастический анализ (2024)\n",
    "# Домашнее Задание 1 (программная часть)\n",
    "\n",
    "ВАШЕ ИМЯ ЗДЕСЬ\n",
    "\n",
    "Оценка(итоговая за ДЗ): ?? из 100 + бонус(?)\n",
    "\n",
    "\n",
    "Задачи: ?? из 50\n",
    "\n",
    "Ноутбук: ?? из 50\n",
    "\n",
    "\n",
    "Дедлайн:  2359МСК\n",
    "\n",
    "Решённый ноутбук нужно засабмитить в класрум курса\n",
    "\n",
    "Пожалуйста, называйте файл(ы) в формате <Имя>HW1.pdf или <Имя>HW1.ipynb. Например, KaledinHW1.pdf и KaledinHW1.ipynb."
   ]
  },
  {
   "cell_type": "code",
   "execution_count": null,
   "metadata": {},
   "outputs": [],
   "source": [
    "#all imports here, please\n",
    "import numpy as np\n",
    "import sklearn.linear_model as sklin\n",
    "\n",
    "import matplotlib.pyplot as plt\n",
    "%matplotlib inline\n",
    "\n",
    "import pickle\n"
   ]
  },
  {
   "attachments": {},
   "cell_type": "markdown",
   "metadata": {},
   "source": [
    "## Часть 1: Оценка параметров в модели Блэка-Шоулза (20 баллов)\n",
    "\n",
    "В одной из первых классических финансовых моделей цены акций моделируются с помощью процесса геометрического Броуновского движения (GBM). Пусть $(W_t)_{t \\in \\mathbb{R}_+}$ -- Винеровский процесс, тогда процесс геометрического Броуновского движения задаётся как\n",
    "\n",
    "$$\n",
    "X_t = X_0 e^{(\\mu-\\sigma^2/2)t + \\sigma W_t},\n",
    "$$\n",
    "\n",
    "$\\mu$ -- параметр сноса (связан с безрисковой процентной ставкой),  $\\sigma$ -- параметр волатильности (показывающий насколько интенсивно цена может колебаться, связан с активностью инвесторов). Ваша задача в этом упражнении построить первую модель для оценки параметров по имеющейся дискретной реализации процесса.\n",
    "\n",
    "### Вывод формул для параметров\n",
    "\n",
    "Пусть даны $X_0,X_{t_1}..,X_{t_n}$ -- часть траектории процесса, мы хотим подогнать параметры $\\mu,\\sigma$ в предположении, что наблюдения пришли из геометрического Броуновского движения. Обычная регрессия в данном случае нам не подойдёт, так как мы имеем дело с нелинейной моделью и наблюдения $X_i$ зависимы. Но можно выписать функцию правдоподобия, если вспомнить, что логарифмы\n",
    "\\[\n",
    "    \\ln \\frac{X_t}{X_{t-1}}\n",
    "] \n",
    "независимы.\n",
    "\n",
    "#### Функция правдоподобия\n",
    "\n",
    "Пусть даны $t_0=0,t_1,..,t_n$ и $X_0,X_1,..,X_n$ (например, данные собранные на бирже). Выпишите функцию правдоподобия $L(\\mu,\\sigma)$ для модели, возьмите в конце логарифм, так как с ним будет удобнее работать."
   ]
  },
  {
   "attachments": {},
   "cell_type": "markdown",
   "metadata": {},
   "source": [
    "ВАШЕ РЕШЕНИЕ В ЭТОМ ОКНЕ"
   ]
  },
  {
   "attachments": {},
   "cell_type": "markdown",
   "metadata": {},
   "source": [
    "#### Вычисление производных\n",
    "\n",
    "Вычислите производные функции $\\ln L(\\mu,\\sigma)$."
   ]
  },
  {
   "attachments": {},
   "cell_type": "markdown",
   "metadata": {},
   "source": [
    "ВАШЕ РЕШЕНИЕ\n",
    "\n",
    "$$\n",
    "\\partial_\\mu \\ln L = ???\n",
    "$$\n",
    "\n",
    "$$\n",
    "\\partial_\\sigma \\ln L = ???\n",
    "$$"
   ]
  },
  {
   "attachments": {},
   "cell_type": "markdown",
   "metadata": {},
   "source": [
    "#### Запись формул для $\\mu,\\sigma$\n",
    "\n",
    "Найдите $\\mu,\\sigma$, приравняв производные к нулю (в этих точках функция действительно будет иметь максимум, проверяется вычислением матрицы Гессе, но здесь это делать не нужно)."
   ]
  },
  {
   "attachments": {},
   "cell_type": "markdown",
   "metadata": {},
   "source": [
    "ВАШЕ РЕШЕНИЕ\n",
    "\n",
    "$$\n",
    "\\mu = ???\n",
    "$$\n",
    "\n",
    "$$\n",
    "\\sigma = ???\n",
    "$$"
   ]
  },
  {
   "attachments": {},
   "cell_type": "markdown",
   "metadata": {},
   "source": [
    "### Воплощение в коде\n",
    "\n",
    "Теперь имплементируйте модель оценки, используйте для основы код ниже. Нам также понадобится код для симуляции Винеровского процесса."
   ]
  },
  {
   "cell_type": "code",
   "execution_count": null,
   "metadata": {},
   "outputs": [],
   "source": [
    "def simulateWienerProcess(x0,ts,Ntraj):\n",
    "    '''\n",
    "    Simulates trajectories of Wiener process\n",
    "    Input\n",
    "    float x0 -- initial value\n",
    "    float[] ts -- times\n",
    "    int Ntraj -- number of trajectories to simulate\n",
    "    Returns\n",
    "    float[] of shape (Ntraj,len(ts))\n",
    "    '''\n",
    "    pass\n",
    "    #YOUR CODE, check lecture 3 for the fast sampling algorithm\n",
    "    #xs = ??? #init\n",
    "    #for ...\n",
    "    #return xs\n",
    "\n",
    "class GBMModel:\n",
    "    '''\n",
    "        Implements Geometric Brownian Motion, allowing for parameter estimation and simulations\n",
    "    '''\n",
    "\n",
    "    def __init__(self, mu=0,sigma=1):\n",
    "        '''\n",
    "        Input\n",
    "        float mu -- drift parameter (if pre-defined)\n",
    "        float sigma -- volatility (if pre-defined)\n",
    "        '''\n",
    "        self.mu=mu\n",
    "        self.sigma=sigma\n",
    "\n",
    "\n",
    "    def fit(self, xs, ts):\n",
    "        '''\n",
    "        Fits the parameters to the given time series\n",
    "        Input\n",
    "        float[] xs -- observations\n",
    "        float[] ts -- times (same shape as xs)\n",
    "        '''\n",
    "        pass\n",
    "        #YOUR CODE\n",
    "        #self.sigma=???\n",
    "        #self.mu=???\n",
    "        \n",
    "\n",
    "    def simulate(self,x0,ts,Ntraj,confLevel=0):\n",
    "        '''\n",
    "        Simulates trajectories of GBM with set mu and sigma\n",
    "        Input\n",
    "        float x0 -- initial price\n",
    "        float[] ts -- times\n",
    "        int Ntraj -- number of trajectories to simulate\n",
    "        float confLevel -- confidence level, set to non-zero if confInterval is needed\n",
    "        Returns\n",
    "        float[] of shape (Ntraj,len(ts)) , trajectories\n",
    "        if confLevel!=0, \n",
    "        then returns  float[] (Ntraj,len(ts)), float[] (len(ts),), float[] (len(ts),) \n",
    "        which are trajectories, confidenceLow, confidenceHigh\n",
    "        '''\n",
    "        pass\n",
    "        #YOUR CODE\n",
    "        #Use simulateWienerProcess to simulateW trajectories of Wiener process\n",
    "        #Based on that, compute GBM\n",
    "        #For confidence intervals use the exponentiated gaussian intervals of (mu-sigma^2/2)t + sigma W_t\n",
    "\n",
    "    def predict(self,x0,ts):\n",
    "        '''\n",
    "        Makes a prediction based on the fact that at ts[0] the process value equals x0\n",
    "        Input\n",
    "        float x0 -- initial price\n",
    "        float[] ts -- times for predictions\n",
    "        Returns\n",
    "        float[] preds, float[] confIntLows, float[] confIntHigh\n",
    "        predictions (len(ts)), confIntLows (len(ts)), confIntHighs (len(ts))\n",
    "        '''\n",
    "        pass\n",
    "        #YOUR CODE\n",
    "        "
   ]
  },
  {
   "attachments": {},
   "cell_type": "markdown",
   "metadata": {},
   "source": [
    "В качестве теста, попробуйте нарисовать траектории Винеровского процесса и траектории геометрического броуновского движения для данных ниже."
   ]
  },
  {
   "cell_type": "code",
   "execution_count": null,
   "metadata": {},
   "outputs": [],
   "source": [
    "#testing\n",
    "a=0\n",
    "b=10\n",
    "Nt=100\n",
    "h=(b-a)/Nt\n",
    "ts = np.arange(a,b+h/2,h)\n",
    "\n",
    "mu=0.10\n",
    "sigma=0.22\n",
    "Ntraj=10\n",
    "x0=15\n",
    "\n",
    "gbm = GBMModel(mu,sigma)\n",
    "gbmTrajs = gbm.simulate(x0,ts,Ntraj)\n",
    "wienTrajs = simulateWienerProcess(x0,ts,Ntraj)"
   ]
  },
  {
   "cell_type": "code",
   "execution_count": null,
   "metadata": {},
   "outputs": [],
   "source": [
    "#plots\n",
    "\n",
    "f, (ax1,ax2) = plt.subplots(1,2,figsize=(15,4))\n",
    "\n",
    "ax1.grid()\n",
    "ax1.set_title('Simulated trajectories of Wiener process',fontsize=20)\n",
    "ax1.set_xlabel('t, time',fontsize=18)\n",
    "ax1.tick_params(axis='x', labelsize=17)\n",
    "ax1.tick_params(axis='y', labelsize=17)\n",
    "ax1.plot(ts,wienTrajs.T)\n",
    "\n",
    "ax2.grid()\n",
    "ax2.set_title('Simulated trajectories of GBM process',fontsize=20)\n",
    "ax2.set_xlabel('t, time',fontsize=18)\n",
    "ax2.tick_params(axis='x', labelsize=17)\n",
    "ax2.tick_params(axis='y', labelsize=17)\n",
    "ax2.plot(ts,gbmTrajs.T)"
   ]
  },
  {
   "attachments": {},
   "cell_type": "markdown",
   "metadata": {},
   "source": [
    "### Подгонка параметров GBM под данные\n",
    "\n",
    "Загрузите датасет gbmData.pkl, который идёт вместе с ноутбуком и попробуйте оценить модель геометрического Броуновского движения для него. Нарисуйте график, на котором указаны точки данных, матожидание полученного процесса и доверительный интервал; пунктиром нарисуйте несколько реализаций процесса геометрического Броуновского движения."
   ]
  },
  {
   "cell_type": "code",
   "execution_count": 1,
   "metadata": {},
   "outputs": [],
   "source": [
    "#YOUR CODE\n",
    "#with open() as f: ...??\n",
    "#gbMod.fit??????....."
   ]
  },
  {
   "cell_type": "code",
   "execution_count": null,
   "metadata": {},
   "outputs": [],
   "source": [
    "#print mu and sigma estimates after fit"
   ]
  },
  {
   "cell_type": "code",
   "execution_count": null,
   "metadata": {},
   "outputs": [],
   "source": [
    "f,ax = plt.subplots(figsize=(12,7))\n",
    "\n",
    "ax.grid()\n",
    "#plot given time series\n",
    "#plot several simulated trajectories\n",
    "#plot confidence intervals    "
   ]
  },
  {
   "cell_type": "markdown",
   "metadata": {},
   "source": []
  },
  {
   "attachments": {},
   "cell_type": "markdown",
   "metadata": {},
   "source": [
    "### Проверка качества предсказаний\n",
    "\n",
    "Проверим, как хорошо делаются предсказания в полученной модели. Для этого обучите модель на первых $60\\%$ ряда, а оставшиеся оставьте для тестов. Попробуйте в разных местах обучающей и тестовой части ряда предсказать следующие 50 наблюдений на основе текущего.\n",
    "\n",
    "Наилучший в смысле среднеквадратической ошибки прогноз -- это условное матожидание\n",
    "\n",
    "$$\n",
    "\\mathbb{E}[X_{t+h} \\vert X_t] = X_t \\mathbb{E}[ e^{(\\mu - \\sigma^2/2)h + \\sigma W_h} ].\n",
    "$$\n",
    "\n",
    "\n",
    "Процесс Марковский(как увидим позднее), поэтому предыдущая история не важна. Сравните предсказания GBMModel и тестовые значения, нарисуйте доверительные интервалы (можно их построить для прогноза логарифма, а потом взять экспоненту). Насколько модель подходит для короткосрочного и долгосрочного прогноза?"
   ]
  },
  {
   "cell_type": "code",
   "execution_count": null,
   "metadata": {},
   "outputs": [],
   "source": [
    "#YOUR CODE and CHARTS"
   ]
  },
  {
   "attachments": {},
   "cell_type": "markdown",
   "metadata": {},
   "source": [
    "ВАШ ТЕКСТ И КОММЕНТАРИИ"
   ]
  },
  {
   "attachments": {},
   "cell_type": "markdown",
   "metadata": {},
   "source": [
    "#### Комментарий\n",
    "\n",
    "Если говорить о математических и вычислительных аспектах, то можно попробовать задать модель и попробовать её с нуля обучить на своей траектории. Увидим, что в нашей модели есть как минимум одна проблема, которая неочевидна с первого взгляда, но почти сразу возникает на практике. Константная волатильность оценивается очень качественно, но параметр сноса очень неустойчивый. Поэтому если на вход приходит не очень удачная (нередкость)  последовательность наблюдений, то снос оценивать сложнее. "
   ]
  },
  {
   "attachments": {},
   "cell_type": "markdown",
   "metadata": {},
   "source": [
    "## Часть 2: Задача оценки американского опциона (30 баллов)\n",
    "\n",
    "### Постановка задачи\n",
    "\n",
    "Американский опцион даёт право на продажу(put) или покупку(call) актива (или корзины из нескольких активов) по цене страйка $K$ в любой момент времени от $0$ (сейчас) до времени истечения $T$. В классической модели Блека-Шоулза есть безрисковый банковский счёт ставке $r\\%$ годовых, а для моделирования цен акций с дивидендами $\\delta\\%$ годовых используется геометрическое Броуновское движение с параметрами сноса $\\mu=r-\\delta$ и волатильности $\\sigma$. Для простоты в этой задаче мы положим что волатильности $\\sigma_i$, дивиденды $\\delta_i$ и начальные цены $x_0^i$ у акций отличаются, но цены моделируются как\n",
    "\n",
    "$$\n",
    "X^i_t = x_0^i e^{(r-\\delta_i - \\sigma_i^2/2)t + \\sigma_i W^i_t},\n",
    "$$\n",
    "\n",
    "где Винеровские процессы $(W^i_t)_{t \\in \\mathbb{R}_+}$ некоррелированы, то есть, $(W_t)_{t \\in \\mathbb{R}_+}$ - это $d$-мерный Винеровский процесс.\n",
    "\n",
    "Из лекций мы знаем, как определяется честная цена европейского опциона, в случае американского идея та же: честная цена равна выгоде, которую можно получить от наилучшего использования опциона. Так как американский опцион можно исполнить в любой момент, то честная цена вычисляется из решения задачи оптимальной остановки:\n",
    "\n",
    "$$\n",
    "\\max_{\\tau \\in \\Tau} \\mathbb{E}\\left[ e^{-r\\tau}f(X_\\tau)\\right],\n",
    "$$\n",
    "\n",
    "где $f$ -- это функция выплаты опциона, к примеру, $f(x)=(\\sum_{i=1}^d x^i - K)_+$, $\\tau$ -- это момент остановки, а $\\Tau$ -- множество всех возможных времён остановки. Время остановки в данном случае себе проще представлять как решающее правило, которое говорит, когда опцион нужно исполнить, а когда -- подождать ещё. \n",
    "\n",
    "Ваша задача состоит в том, чтобы реализовать приближённый метод для оценки американского опциона.\n",
    "\n",
    "\n",
    "### Описание метода\n",
    "\n",
    "\n",
    "Для приближённой оценки опциона численными методами, задачу дискретизируют, рассматривая так называемый бермудский опцион, который можно исполнять в моменты $t_k=k\\Delta$, где $\\Delta=T/p, k=0,..,p$. Для решения этой задачи уже можно пользоваться принципом Беллмана (динамическим программированием). Определим функцию ценности $V_p(x)=f(x)$; действительно, если мы находимся в момент истечения, то опцион сгорает, если мы его не исполнили и приносит прибыль иначе. Более ранние функции ценности строятся рекурсивно: функция ценности \n",
    "\n",
    "$$\n",
    "V_{t_k}(x) = f(x) \\vee \\left\\lbrace e^{-r(t_{k+1}-t_k)} \\mathbb{E}\\left[ V_{t_{k+1}}(X_{t_{k+1}}) ~\\vert~ X_{t_k}=x\\right] \\right\\rbrace,\n",
    "$$\n",
    "\n",
    "где значок $\\vee$ обозначает максимум из значения слева и справа. Функция $V_0(x)$ будет, таким образом, честной ценой бермудского опциона при условии текущих цен $X_0=x$.\n",
    "\n",
    "#### Смещённая вверх оценка (High-Biased Estimator)\n",
    "\n",
    "Один из подходов может состоять в следующем (Longstaff,Shwarz 2001): на каждом шаге мы решаем задачу регрессии, пытаясь предсказывать\n",
    "\n",
    "$$\n",
    "\\mathbb{E}\\left[ V_{t_{k+1}}(X_{t_{k+1}}) ~\\vert~ X_{t_k}=x\\right]\n",
    "$$\n",
    "по $X_{t_k}$. Чтобы это реализовать мы из момента $t_0$ семплируем независимо $N$ траекторий из модели $(X_t)$, обозначим траекторию $i$ индексом наверху $X_t^i$. В конце мы задаём вектор\n",
    "\n",
    "$$\n",
    "    v_p = (V_p(X_p^i)) = (f(X_p^i)), ~~~ i=1,..,N.\n",
    "$$\n",
    "\n",
    "Далее на следующих шагах $k-1<p$ мы обучаем некоторую предсказательную модель $\\hat{V}_{k-1}: \\mathbb{R}^d \\to \\mathbb{R}$, которая может предсказать по $X_{t_{k-1}}$ значение $V(X_{t_{k}})$ и задаём вектор\n",
    "\n",
    "$$\n",
    "    v_{k-1} = (\\hat{V}_{k-1}(X_{t_{k-1}}^i)), ~~~ i=1,..,N.\n",
    "$$\n",
    "\n",
    "В самом конце в силу того, что все траектории исходят из одной точки (хотя это легко обобщить)\n",
    "\n",
    "$$\n",
    "    \\hat{V}_{t_0} = \\frac{1}{N} \\sum_{i=1}^N \\hat{V}_{1}(X_{t_1}^i).\n",
    "$$"
   ]
  },
  {
   "cell_type": "markdown",
   "metadata": {},
   "source": [
    "#### Нижняя оценка (Lower Bound)\n",
    "\n",
    "Оказывается, мы можем дёшево получить нижнюю оценку, просто просимулировав ещё $N_{test}$ новых траекторий и посчитав результат обученных моделей (без дополнительного обучения). Чтобы это сделать, надо с имеющимися моделями попробовать исполнить опцион. Можно себе это представлять как разбиение на train и test в классическом машинном обучении.\n",
    "\n",
    "Конкретнее, семплируется $N_{test}$ траекторий, а дальше каждая проходится и ищется первый момент, где текущая выгода $f(X^{i}_{t})$ выше обещанной $\\hat{V}_t(X^{i}_{t})$. Пусть на траектории $i$ алгоритм остановился в момент $\\tau_i$. Полученные выгоды с учётом дисконтирования $e^{-r\\tau_i}f(X^{i}_{\\tau_i})$ нужно усреднить. Это и будет нижней оценкой цены (может, можно лучше, но текущее правило смогло выиграть столько).\n",
    "\n",
    "Оказывается, что в отличие от классических приложений ML, в этой задаче можно даже построить верхнюю оценку. Чуть позже в курсе мы обсудим, как её можно получить, это уже является более сложным вопросом."
   ]
  },
  {
   "attachments": {},
   "cell_type": "markdown",
   "metadata": {},
   "source": [
    "### Имплементация метода\n",
    "\n",
    "Для реализации нам понадобится модуль симуляции многомерного геометрического Броуновского движения, модуль, реализующий функцию ценности, и модуль, который служит непосредственно для оценки заданного опциона.\n",
    "\n",
    "Можете использовать для начала шаблоны кода ниже.\n",
    "\n",
    "#### Симуляция GBM\n",
    "\n",
    "Уже был реализован в предыдущей части."
   ]
  },
  {
   "attachments": {},
   "cell_type": "markdown",
   "metadata": {},
   "source": [
    "#### (Приближённая) Функция ценности\n",
    "\n",
    "Функция ценности имеет метод для оценки условного матожидания и метод для обучения и предсказания. Практически полностью повторяет sklearn, но с дополнительной обёрткой иногда удобнее."
   ]
  },
  {
   "cell_type": "code",
   "execution_count": null,
   "metadata": {},
   "outputs": [],
   "source": [
    "class ValueFunction:\n",
    "\n",
    "    def __init__(self):\n",
    "        '''\n",
    "        Input\n",
    "        Obj model -- object implementing methods fit() and predict(), may contain sklearn or torch models\n",
    "        '''\n",
    "        #self.model =  #sklearn maybe??\n",
    "\n",
    "    def fit(self,X,y):\n",
    "        '''\n",
    "        Fits continuation value\n",
    "        Input\n",
    "        float[][] X -- training set of shape (batch, d)\n",
    "        float[] y -- training targets of shape (batch,)\n",
    "        '''\n",
    "        #self.model.fit(X,y)?\n",
    "    \n",
    "    def predict(self,X):\n",
    "        '''\n",
    "        Predicts continuation value given current price vectors X\n",
    "        Input\n",
    "        float[][] X -- set of price vectors of shape (batch, d)\n",
    "        Returns\n",
    "        float[] contValues (batch,)\n",
    "        '''\n",
    "        #return self.model.predict(X)?\n",
    "\n",
    "    def getParameters(self):\n",
    "        pass\n",
    "        #return estimated parameters\n"
   ]
  },
  {
   "cell_type": "code",
   "execution_count": null,
   "metadata": {},
   "outputs": [],
   "source": [
    "#SOME SIMPLE TESTS, check it is working as it should\n",
    "\n",
    "vf = ValueFunction()\n",
    "\n",
    "xTests = np.concatenate([ np.ones([5,1]),(np.arange(0,1,1/5)[:,None]), (np.arange(0,1,1/5)[:,None])**2],axis=-1)\n",
    "yTests = 0.2*(np.arange(0,1,1/5)[:,None])**3 + 0.8* (np.arange(0,1,1/5)[:,None])**2 - 2*(np.arange(0,1,1/5)[:,None]) + 3\n",
    "\n",
    "vf.fit(xTests,yTests)\n",
    "\n",
    "print(vf.getParameters())\n",
    "#compare to the true parameters!\n"
   ]
  },
  {
   "attachments": {},
   "cell_type": "markdown",
   "metadata": {},
   "source": [
    "МЕСТО ДЛЯ КОММЕНТАРИЕВ"
   ]
  },
  {
   "attachments": {},
   "cell_type": "markdown",
   "metadata": {},
   "source": [
    "#### Метод оценки опциона\n",
    "\n",
    "Теперь реализуем сам метод оценки. Мы должны уметь вычислить как смещённую оценку, так и нижнюю. Используйте шаблон ниже."
   ]
  },
  {
   "cell_type": "code",
   "execution_count": null,
   "metadata": {},
   "outputs": [],
   "source": [
    "\n",
    "class OptionPricer:\n",
    "\n",
    "    '''Base class for option pricing'''\n",
    "\n",
    "    def __init__(self,priceModel,payment,executionTimes,discountFunction):\n",
    "        '''\n",
    "        Input\n",
    "        Obj priceModel -- GBMModel serving as simulator\n",
    "        functionHandler payment -- function taking X (batch,d) and returning payments f(X) of shape (batch,)\n",
    "        float horizon -- expiration time(in years)\n",
    "        float[] executionTimes -- times when it is possible to execute the option\n",
    "        functionHandler discountFunction -- function returning discounting rate based on the time (classic is e^{-r*h} like above)\n",
    "        '''\n",
    "        self.priceModel = priceModel\n",
    "        self.payment = payment\n",
    "        self.executionTimes = executionTimes\n",
    "        self.continuationModels = [ValueFunction()]*(len(executionTimes)-2)\n",
    "        self.dicountFunction = discountFunction\n",
    "\n",
    "\n",
    "\n",
    "    def computeHighBiasEstimator(self,Ntrajs):\n",
    "        '''\n",
    "        Trains value functions and computes highBias estimator of the price\n",
    "        Input\n",
    "        int Ntrajs -- number of trajectories to sample\n",
    "        Returns\n",
    "        price, priceStd -- price estimation and estimated standard deviation\n",
    "        '''\n",
    "        pass\n",
    "\n",
    "    def computeLowEstimator(self,Ntrajs):\n",
    "        '''\n",
    "        Computes low estimate of the price based on trained value functions and new sampled test set of trajectories\n",
    "        Input\n",
    "        int Ntrajs -- number of trajectories to use for estimation\n",
    "        Returns\n",
    "        priceLow,priceLowStd -- low estimation of the price and its estimated standard deviation\n",
    "        '''\n",
    "        pass"
   ]
  },
  {
   "attachments": {},
   "cell_type": "markdown",
   "metadata": {},
   "source": [
    "### Проведение экспериментов\n",
    "\n",
    "Прим.: $+$ это то же, что [ReLU](https://en.wikipedia.org/wiki/Rectifier_(neural_networks))\n",
    "\n",
    "В качестве иллюстрации метода, рассмотрим три пример с функцией выплаты $f(x) = (\\max_i x_i - K)_+$ (американский max-call опцион со страйком $K=100$) для двух акций $X^1,X^2$ с начальными ценами\n",
    "\n",
    "1. $X_0= [100,100]$;\n",
    "2. $X_0= [110,110]$;\n",
    "3. $X_0= [90,90]$.\n",
    "\n",
    "Параметры модели: банковская процентная ставка $r=0.05$ годовых, для каждой акции дивиденды $\\delta=0.1$ годовых, волатильность $\\sigma=0.2$, истечение срока опциона $T=1$ год. Используется геометрическое Броуновское движение с параметрами $\\mu=r-\\delta$ и $\\sigma$, шаг дискретизации $0.1$ (число разбиений равно $10$). Max-call опцион позволяет купить товар из корзины, который имеет максимальную цену в момент исполнения, по цене страйка $K$.\n",
    "\n",
    "Для каждого из трёх сценариев проведите следующий эксперимент: посчитайте цену опциона(high-biased) для числа траекторий для обучения $N=500,1000,2000,4000,8000,16000$ и вычислите для каждого из них нижнюю оценку на $N_{test}=40000$ траекториях. Постройте график с двумя кривыми цен и гауссовскими доверительными интервалами, отображающий зависимость вычисленной цены от $N$. Сделайте вывод: какой из трёх опционов дороже? Как вы считаете, почему?\n",
    "\n",
    "Сравните вычисленные цены с ценой европейского опциона для этих трёх примеров, в чём причина того, что его цена ниже?"
   ]
  },
  {
   "cell_type": "code",
   "execution_count": null,
   "metadata": {},
   "outputs": [],
   "source": [
    "#YOUR COMPUTATIONS"
   ]
  },
  {
   "cell_type": "code",
   "execution_count": null,
   "metadata": {},
   "outputs": [],
   "source": [
    "#YOUR CHARTS"
   ]
  },
  {
   "attachments": {},
   "cell_type": "markdown",
   "metadata": {},
   "source": [
    "ВАШ КОММЕНТАРИЙ И ОТВЕТЫ НА ВОПРОСЫ"
   ]
  },
  {
   "cell_type": "markdown",
   "metadata": {},
   "source": []
  }
 ],
 "metadata": {
  "kernelspec": {
   "display_name": "pyAudio",
   "language": "python",
   "name": "python3"
  },
  "language_info": {
   "codemirror_mode": {
    "name": "ipython",
    "version": 3
   },
   "file_extension": ".py",
   "mimetype": "text/x-python",
   "name": "python",
   "nbconvert_exporter": "python",
   "pygments_lexer": "ipython3",
   "version": "3.7.13"
  },
  "orig_nbformat": 4,
  "vscode": {
   "interpreter": {
    "hash": "d75da1dac404182503559a531177030cede5fb1808a6b0942159d57f066fccfc"
   }
  }
 },
 "nbformat": 4,
 "nbformat_minor": 2
}
