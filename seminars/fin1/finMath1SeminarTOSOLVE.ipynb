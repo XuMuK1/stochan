{
 "cells": [
  {
   "cell_type": "markdown",
   "metadata": {},
   "source": [
    "# Базовые модели финансовой математики"
   ]
  },
  {
   "cell_type": "code",
   "execution_count": null,
   "metadata": {},
   "outputs": [],
   "source": [
    "import numpy as np\n",
    "import matplotlib.pyplot as plt\n",
    "%matplotlib inline"
   ]
  },
  {
   "cell_type": "markdown",
   "metadata": {},
   "source": [
    "За последние две лекции мы успели ввести очень важный (если не самый) случайный процесс для финансовой математики -- Винеровский процесс. В частности, он является базовым строительным блоком для очень многих финансовых моделей. Сегодня мы рассмотрим две из них: геометрическое Броуновское движение и процесс Орнштейна-Уленбека."
   ]
  },
  {
   "cell_type": "markdown",
   "metadata": {},
   "source": [
    "## Винеровский процесс\n",
    "\n",
    "Вспомним алгоритм из лекции 2, который нам позволяет симулировать дискретизированные траектории процесса $(W_t)_{t \\in \\mathbb{R}_+}$. В отличие от гауссовских процессов мы можем использовать свойство независимости и гауссовости приращений и получить алгоритм, выдающий $N$ сечений процесса за $O(N)$."
   ]
  },
  {
   "cell_type": "code",
   "execution_count": null,
   "metadata": {},
   "outputs": [],
   "source": [
    "def simulateWienerProcess(x0,ts,Ntraj):\n",
    "    '''\n",
    "    Simulates trajectories of Wiener process\n",
    "    Input\n",
    "    float x0 -- initial value\n",
    "    float[] ts -- times\n",
    "    int Ntraj -- number of trajectories to simulate\n",
    "    Returns\n",
    "    float[] of shape (Ntraj,xs.shape[0],len(ts))\n",
    "    '''\n",
    "    try:\n",
    "        d=x0.shape[0]\n",
    "    except:\n",
    "        d=1\n",
    "\n",
    "    xs=np.zeros([Ntraj,d,len(ts)])\n",
    "    xs[...,0]=x0\n",
    "\n",
    "    #YOUR CODE\n",
    "    #for kk in np.arange(1,len(ts)):\n",
    "        #noises=#generate tensor Ntraj,d of independent standard normal random variables\n",
    "        #xs[...,kk] = ?? (Lec.2)\n",
    "    \n",
    "    return xs"
   ]
  },
  {
   "cell_type": "code",
   "execution_count": null,
   "metadata": {},
   "outputs": [],
   "source": [
    "a=0\n",
    "b=50\n",
    "Nt=500\n",
    "h=(b-a)/Nt\n",
    "ts = np.arange(a,b+h/2,h)\n",
    "\n",
    "Ntraj=10\n",
    "x0=0\n",
    "\n",
    "wienTrajs = simulateWienerProcess(x0,ts,Ntraj)"
   ]
  },
  {
   "cell_type": "code",
   "execution_count": null,
   "metadata": {},
   "outputs": [],
   "source": [
    "f, ax = plt.subplots(figsize=(16,9))\n",
    "\n",
    "ax.grid()\n",
    "ax.set_title('Simulated trajectories of Wiener process',fontsize=20)\n",
    "ax.set_xlabel('t, time',fontsize=18)\n",
    "ax.tick_params(axis='x', labelsize=17)\n",
    "ax.tick_params(axis='y', labelsize=17)\n",
    "ax.plot(ts,wienTrajs[:,0,:].T)"
   ]
  },
  {
   "cell_type": "code",
   "execution_count": null,
   "metadata": {},
   "outputs": [],
   "source": [
    "#2D\n",
    "a=0\n",
    "b=50\n",
    "Nt=500\n",
    "h=(b-a)/Nt\n",
    "ts = np.arange(a,b+h/2,h)\n",
    "\n",
    "Ntraj=10\n",
    "x0=np.zeros([2])\n",
    "\n",
    "wienTrajs = simulateWienerProcess(x0,ts,Ntraj)"
   ]
  },
  {
   "cell_type": "code",
   "execution_count": null,
   "metadata": {},
   "outputs": [],
   "source": [
    "f, ax = plt.subplots(figsize=(7,7))\n",
    "\n",
    "ax.grid()\n",
    "ax.set_title('Simulated trajectories of Wiener process,2D',fontsize=20)\n",
    "ax.set_xlabel('X',fontsize=18)\n",
    "ax.set_ylabel('Y',fontsize=18)\n",
    "ax.tick_params(axis='x', labelsize=17)\n",
    "ax.tick_params(axis='y', labelsize=17)\n",
    "ax.plot(wienTrajs[:,0,:].T,wienTrajs[:,1,:].T)"
   ]
  },
  {
   "cell_type": "markdown",
   "metadata": {},
   "source": [
    "Заметим, что $W_t=(1/\\sqrt{c})W_{ct}$ -- это тоже Винеровский процесс для любой константы $c$. Винеровский процесс обладает свойством самоподобия или, как ещё говорят, автомодельности. Попробуйте поменять время $b$, сильно ли визуально меняется характер траекторий?\n",
    "\n",
    "Ещё один интересный факт: Винеровский процесс в размерности 1 и 2 рекуррентен. Если зафиксировать какое-нибудь открытое множество и начать оттуда траекторию, то траектория почти наверное его посетит ещё раз через конечное время. В размерности 3 и выше Винеровский процесс не обладает свойством рекуррентности (попробуйте поменять размерность в параметрах).\n",
    "\n",
    "Процесс норм $B_t = \\Vert W_t \\Vert_2$ называют процессом Бесселя."
   ]
  },
  {
   "cell_type": "code",
   "execution_count": null,
   "metadata": {},
   "outputs": [],
   "source": [
    "f, ax = plt.subplots(figsize=(12,6))\n",
    "\n",
    "ax.grid()\n",
    "ax.set_title('Simulated trajectories of Bessel Process,2D',fontsize=20)\n",
    "ax.set_xlabel('t, time',fontsize=18)\n",
    "ax.tick_params(axis='x', labelsize=17)\n",
    "ax.tick_params(axis='y', labelsize=17)\n",
    "ax.plot(ts,np.linalg.norm(wienTrajs,ord=2,axis=1).T)"
   ]
  },
  {
   "cell_type": "markdown",
   "metadata": {},
   "source": [
    "## Геометрическое Броуновское движение\n",
    "\n",
    "Согласно модели Самуэльсона (её ещё называют моделью Блека-Шоулса), на эффективном рынке динамика цен задаётся геометрическим Броуновским движением, в одномерном случае\n",
    "\n",
    "$$\n",
    "X_t = x_0 e^{(\\mu-\\sigma^2/2)t + \\sigma W_t}.\n",
    "$$\n",
    "\n",
    "Для того, чтобы сгенерировать траектории мы можем использовать уже реализованную выше модель Винеровского процесса."
   ]
  },
  {
   "cell_type": "code",
   "execution_count": null,
   "metadata": {},
   "outputs": [],
   "source": [
    "def simulateGBM(x0,mu,sigma,ts,Ntraj):\n",
    "        '''\n",
    "        Simulates trajectories of GBM with parameters mu and sigma\n",
    "        Input\n",
    "        float[] x0 -- initial price, (d,)\n",
    "        float[] mu -- mu parameter, (d,)\n",
    "        float[] sigma -- sigma parameter, (d,)\n",
    "        float[] ts -- times\n",
    "        int Ntraj -- number of trajectories to simulate\n",
    "        Returns\n",
    "        float[] of shape (Ntraj,d,len(ts)) , trajectories\n",
    "        '''\n",
    "        try:\n",
    "                wienProcs = simulateWienerProcess(np.zeros(x0.shape),ts-ts[0],Ntraj)\n",
    "        except:\n",
    "                wienProcs = simulateWienerProcess(0,ts-ts[0],Ntraj)\n",
    "        \n",
    "        #YOUR CODE\n",
    "        #xs = ??\n",
    "\n",
    "        return xs"
   ]
  },
  {
   "cell_type": "code",
   "execution_count": null,
   "metadata": {},
   "outputs": [],
   "source": [
    "a=0\n",
    "b=500\n",
    "Nt=1000\n",
    "h=(b-a)/Nt\n",
    "ts = np.arange(a,b+h/2,h)\n",
    "\n",
    "mu=0.01\n",
    "sigma=0.2\n",
    "Ntraj=10\n",
    "x0=5\n",
    "\n",
    "gbmTrajs = simulateGBM(x0,mu,sigma,ts,Ntraj)\n",
    "wienTrajs = simulateWienerProcess(x0,ts,Ntraj)"
   ]
  },
  {
   "cell_type": "code",
   "execution_count": null,
   "metadata": {},
   "outputs": [],
   "source": [
    "#plots\n",
    "\n",
    "f, (ax1,ax2) = plt.subplots(1,2,figsize=(18,7))\n",
    "\n",
    "ax1.grid()\n",
    "ax1.set_title('Simulated trajectories of Wiener process',fontsize=20)\n",
    "ax1.set_xlabel('t, time',fontsize=18)\n",
    "ax1.tick_params(axis='x', labelsize=17)\n",
    "ax1.tick_params(axis='y', labelsize=17)\n",
    "ax1.plot(ts,wienTrajs[:,0,:].T)\n",
    "\n",
    "ax2.grid()\n",
    "ax2.set_title('Simulated trajectories of GBM process',fontsize=20)\n",
    "ax2.set_xlabel('t, time',fontsize=18)\n",
    "ax2.tick_params(axis='x', labelsize=17)\n",
    "ax2.tick_params(axis='y', labelsize=17)\n",
    "ax2.plot(ts,gbmTrajs[:,0,:].T)"
   ]
  },
  {
   "cell_type": "markdown",
   "metadata": {},
   "source": [
    "## Оценка опционов с помощью геометрического Броуновского движения\n",
    "\n",
    "Европейские опционы в модели Блека-Шоулса можно оценивать спомощью известной формулы Блека-Шоулса. Такой приём, однако, не работает в случае, когда опцион продаётся на корзину активов, а не на один актив. Здесь помогают методы Монте-Карло.\n",
    "\n",
    "Пусть на рынке есть $d$ активов. Напомним, что честная цена опциона с выплатой $f: \\mathbb{R}^d \\to \\mathbb{R}$ и моментом исполнения $T>0$ есть\n",
    "\n",
    "$$\n",
    "\\mathbb{E}\\left\\lbrace f(X_T)\\right\\rbrace.\n",
    "$$\n",
    "\n",
    "Например, мы имеем (как минимум) по 1 единице каждого из активов, тогда классический европейский put-опцион будет иметь выплату\n",
    "\n",
    "$$\n",
    "f(x) = (K-x)_+,\n",
    "$$\n",
    "\n",
    "где $K$ -- страйк, а знак плюса озаначает, что выражение равно нулю, если $K-x<0$."
   ]
  },
  {
   "cell_type": "code",
   "execution_count": null,
   "metadata": {},
   "outputs": [],
   "source": [
    "def priceEuropeanCall(x0,mu,sigma,f,T,NSamples=10):\n",
    "    '''\n",
    "    Sets a price on european put-option\n",
    "    Input\n",
    "    float[] x0 -- current prices, (d,)\n",
    "    float[] mu -- mu parameter, (d,)\n",
    "    float[] sigma -- sigma parameter, (d,)\n",
    "    functionHandler f -- payment function, R^d --> R\n",
    "    float T -- expiration time\n",
    "    int NSamples -- number of Monte Carlo samples to use\n",
    "    '''\n",
    "\n",
    "    #YOUR CODE\n",
    "    #simulate\n",
    "    #xs = simulateGBM??\n",
    "\n",
    "    #payments = f(??)\n",
    "    #priceMean = np.mean(payments)\n",
    "    #priceStd = np.std(payments)\n",
    "\n",
    "    #return priceMean,priceStd\n",
    "    pass"
   ]
  },
  {
   "cell_type": "code",
   "execution_count": null,
   "metadata": {},
   "outputs": [],
   "source": [
    "#example above\n",
    "mu=0.01\n",
    "sigma=0.08\n",
    "x0=5\n",
    "NSamples=10000\n",
    "K=5\n",
    "T=10\n",
    "\n",
    "def paym(x):\n",
    "    try:\n",
    "        priceSum = np.sum(x, axis=1)\n",
    "    except:\n",
    "        priceSum = np.sum(x)\n",
    "    \n",
    "    return (priceSum-K)*((priceSum-K)>0)\n",
    "\n",
    "priceMean, priceStd = priceEuropeanCall(x0,mu,sigma,paym,T,NSamples)\n",
    "print(priceMean, \"+-\", 1.96*priceStd/np.sqrt(NSamples) )\n"
   ]
  },
  {
   "cell_type": "code",
   "execution_count": null,
   "metadata": {},
   "outputs": [],
   "source": [
    "#convergence of MC\n",
    "d=10\n",
    "experiments = [ {\"mu\":0.01*np.ones([d]), \"sigma\":0.08*np.ones([d]), \"x0\":5*np.ones([d]), \"NSamples\": nS, \"K\":5, \"T\": 100, \"f\":paym} \\\n",
    "                for nS in np.arange(100,100000,100)]\n",
    "\n",
    "results = [ priceEuropeanCall(experiments[k][\"x0\"],experiments[k][\"mu\"],experiments[k][\"sigma\"],experiments[k][\"f\"],\\\n",
    "                              experiments[k][\"T\"], experiments[k][\"NSamples\"]) for k in np.arange(len(experiments))]\n",
    "\n",
    "prices= np.array([results[k][0] for k in np.arange(len(results))])\n",
    "priceStds= np.array([results[k][0] for k in np.arange(len(results))])\n",
    "NSampless = np.arange(100,100000,100)"
   ]
  },
  {
   "cell_type": "code",
   "execution_count": null,
   "metadata": {},
   "outputs": [],
   "source": [
    "f, ax = plt.subplots(figsize=(12,6))\n",
    "\n",
    "ax.grid()\n",
    "ax.set_title('Convergence of Monte Carlo Pricing',fontsize=20)\n",
    "ax.set_xlabel('NSamples',fontsize=18)\n",
    "ax.tick_params(axis='x', labelsize=17)\n",
    "ax.tick_params(axis='y', labelsize=17)\n",
    "ax.plot(NSampless , prices)\n",
    "ax.fill_between(NSampless, prices + 1.96*priceStds/np.sqrt(NSampless),prices - 1.96*priceStds/np.sqrt(NSampless),alpha=0.3)\n",
    "\n",
    "ax.set_ylim([120,140])\n"
   ]
  },
  {
   "cell_type": "markdown",
   "metadata": {},
   "source": [
    "## Процесс Орнштейна-Уленбека\n",
    "\n",
    "Процесс Орнштейна-Уленбека задаётся с помощью Винеровского процесса $(W_t)_{t \\in \\mathbb{R}_+}$ как\n",
    "\n",
    "$$\n",
    "X_t = \\frac{\\sigma}{\\sqrt{2\\theta}} e^{-\\theta t} W_{e^{2\\theta t}}.\n",
    "$$\n",
    "\n",
    "Гауcсовский процесс с нулевым матожиданием и ковариационной функцией Орнштейна-Уленбека -- это тот же самый процесс, но такое представление позволяет существенно упростить симуляцию и теоретический анализ."
   ]
  },
  {
   "cell_type": "code",
   "execution_count": null,
   "metadata": {},
   "outputs": [],
   "source": [
    "def simulateOU(w0,theta,sigma,ts,Ntraj):\n",
    "        '''\n",
    "        Simulates trajectories of OU-process, d-dimensional version consists of d uncorrelated processes\n",
    "        Input\n",
    "        float[] w0 -- starting point of  Wiener process\n",
    "        float[] theta -- mu parameter, (d,)\n",
    "        float[] sigma -- sigma parameter, (d,)\n",
    "        float[] ts -- times\n",
    "        int Ntraj -- number of trajectories to simulate\n",
    "        Returns\n",
    "        float[] of shape (Ntraj,d,len(ts)) , trajectories\n",
    "        '''\n",
    "        \n",
    "        expts = np.concatenate([np.array([0]),np.exp(2*theta*ts)])\n",
    "        try:\n",
    "                wienProcs = simulateWienerProcess(w0,expts,Ntraj)\n",
    "        except:\n",
    "                wienProcs = simulateWienerProcess(w0,expts,Ntraj)\n",
    "        #print(wienProcs.shape)\n",
    "        \n",
    "        #YOUR CODE\n",
    "        # xs = ???? \n",
    "\n",
    "        #return xs"
   ]
  },
  {
   "cell_type": "code",
   "execution_count": null,
   "metadata": {},
   "outputs": [],
   "source": [
    "a=0\n",
    "b=100000\n",
    "Nt=1000\n",
    "h=(b-a)/Nt\n",
    "ts = np.arange(a,b+h/2,h)\n",
    "\n",
    "theta=0.00005\n",
    "sigma=0.2\n",
    "Ntraj=10\n",
    "w0=10\n",
    "\n",
    "\n",
    "ouTrajs = simulateOU(w0,theta,sigma,ts,Ntraj)\n"
   ]
  },
  {
   "cell_type": "code",
   "execution_count": null,
   "metadata": {},
   "outputs": [],
   "source": [
    "f, ax = plt.subplots(figsize=(18,7))\n",
    "\n",
    "ax.grid()\n",
    "ax.set_title('Simulated trajectories of OU process',fontsize=20)\n",
    "ax.set_xlabel('t, time',fontsize=18)\n",
    "ax.tick_params(axis='x', labelsize=17)\n",
    "ax.tick_params(axis='y', labelsize=17)\n",
    "ax.plot(ts,ouTrajs[:,0,:].T)"
   ]
  },
  {
   "cell_type": "markdown",
   "metadata": {},
   "source": []
  },
  {
   "cell_type": "markdown",
   "metadata": {},
   "source": []
  },
  {
   "cell_type": "code",
   "execution_count": null,
   "metadata": {},
   "outputs": [],
   "source": []
  },
  {
   "cell_type": "markdown",
   "metadata": {},
   "source": []
  }
 ],
 "metadata": {
  "interpreter": {
   "hash": "f433b438e9f6b7f7de632f64020d80d9c5c579cb181b21714db0b763cdb1b505"
  },
  "kernelspec": {
   "display_name": "Python 3.6.2 ('py36')",
   "language": "python",
   "name": "python3"
  },
  "language_info": {
   "codemirror_mode": {
    "name": "ipython",
    "version": 3
   },
   "file_extension": ".py",
   "mimetype": "text/x-python",
   "name": "python",
   "nbconvert_exporter": "python",
   "pygments_lexer": "ipython3",
   "version": "3.6.2"
  },
  "orig_nbformat": 4
 },
 "nbformat": 4,
 "nbformat_minor": 2
}
