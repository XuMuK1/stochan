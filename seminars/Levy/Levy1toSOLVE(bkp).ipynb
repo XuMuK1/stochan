{
 "cells": [
  {
   "cell_type": "markdown",
   "metadata": {},
   "source": [
    "# Процессы Леви"
   ]
  },
  {
   "cell_type": "code",
   "execution_count": null,
   "metadata": {},
   "outputs": [],
   "source": [
    "import numpy as np\n",
    "\n",
    "import matplotlib.pyplot as plt\n",
    "import scipy.interpolate as spint\n",
    "%matplotlib inline"
   ]
  },
  {
   "cell_type": "markdown",
   "metadata": {},
   "source": [
    "В этом ноутбуке мы поисследуем несколько примеров процессов Леви."
   ]
  },
  {
   "cell_type": "markdown",
   "metadata": {},
   "source": [
    "## Винеровский процесс\n",
    "\n",
    "Винеровский процесс мы уже умеем симулировать, это настолько просто, что мы не будем ради этого создавать отдельный класс и скопируем функцию из предыдущих семинаров."
   ]
  },
  {
   "cell_type": "code",
   "execution_count": null,
   "metadata": {},
   "outputs": [],
   "source": [
    "def simulateWienerProcess(x0,ts,Ntraj):\n",
    "    '''\n",
    "    Simulates trajectories of Wiener process\n",
    "    Input\n",
    "    float x0 -- initial value\n",
    "    float[] ts -- times\n",
    "    int Ntraj -- number of trajectories to simulate\n",
    "    Returns\n",
    "    float[] of shape (Ntraj,xs.shape[0],len(ts))\n",
    "    '''\n",
    "    try:\n",
    "        d=x0.shape[0]\n",
    "    except:\n",
    "        d=1\n",
    "\n",
    "    xs=np.zeros([Ntraj,d,len(ts)])\n",
    "    xs[...,0]=x0\n",
    "    for kk in np.arange(1,len(ts)):\n",
    "        noises=np.random.randn(Ntraj,d)\n",
    "        xs[...,kk]=xs[...,kk-1] + np.sqrt(ts[kk]-ts[kk-1])*noises\n",
    "    \n",
    "    return xs"
   ]
  },
  {
   "cell_type": "markdown",
   "metadata": {},
   "source": [
    "## Процесс Пуассона"
   ]
  },
  {
   "cell_type": "markdown",
   "metadata": {},
   "source": [
    "Пуассоновский процесс -- это процесс Леви с Пуассоновскими приращениями:\n",
    "\n",
    "$$\n",
    "N_{t} - N_{s} \\sim \\Pi(\\lambda(t-s)).\n",
    "$$\n",
    "\n",
    "Тем не менее, для симуляций удобнее всего семплировать времена прыжков $T_i$, что делается так:\n",
    "1. Семплируются независимо интервалы между прыжками $\\Delta_i \\sim Exp(\\lambda)$;\n",
    "2. Время $T_k = \\sum_{i=1}^k \\Delta_i$.\n",
    "\n",
    "В моменты $T_k$ значение процесса меняется с $k-1$ на $k$.\n",
    "\n",
    "Пуассоновский процесс мы далее мы будем использовать как строительный блок для процессов Леви."
   ]
  },
  {
   "cell_type": "code",
   "execution_count": null,
   "metadata": {},
   "outputs": [],
   "source": [
    "class PoissonProcess:\n",
    "    \n",
    "    def __init__(self, lam):\n",
    "        '''\n",
    "        Parameters\n",
    "        float lam -- intensity parameter lambda\n",
    "        '''\n",
    "        self.lam = lam\n",
    "        \n",
    "    def sampleTrajs(self, N, T):\n",
    "        '''\n",
    "        Samples N trajectories of the process on range [0,T]\n",
    "    \n",
    "        Parameters\n",
    "        int N -- number of trajectories\n",
    "        float T -- the observation time (all larger sampling times will be deleted)\n",
    "    \n",
    "        Returns\n",
    "        list(list()) -- jump times\n",
    "        '''\n",
    "        intervals = #???   #add some heuristic \n",
    "        jumpTimes = #???\n",
    "        \n",
    "        times = [ np.concatenate([np.zeros([1]),intervals[i,np.where(intervals[i,:]>0)[0]]]) for i in np.arange(N)]\n",
    "\n",
    "        return times\n",
    "    \n",
    "    def interpolateTimes(self, ts, times):\n",
    "        '''\n",
    "        Performs nearest const interpolation\n",
    "        '''\n",
    "        # don't forget bounds_error=False, fill_value=\"extrapolate\" options in interpolation\n",
    "        # use spint.interp1d\n",
    "        #return ??\n",
    "        pass"
   ]
  },
  {
   "cell_type": "code",
   "execution_count": null,
   "metadata": {},
   "outputs": [],
   "source": [
    "lam=3\n",
    "N=100\n",
    "T=3\n",
    "Nt=10\n",
    "ts = np.arange(0,T+T/(2*Nt), T/Nt)\n",
    "\n",
    "pois = PoissonProcess(lam)\n",
    "times = pois.sampleTrajs(N,T)\n",
    "trajs = pois.interpolateTimes(ts, times)\n",
    "\n",
    "#print(trajs, times)\n"
   ]
  },
  {
   "cell_type": "code",
   "execution_count": null,
   "metadata": {},
   "outputs": [],
   "source": [
    "f, ax = plt.subplots(figsize=(13,7))\n",
    "\n",
    "ax.grid()\n",
    "ax.set_title('Simulated trajectories of Poisson process',fontsize=16)\n",
    "ax.set_xlabel('t, time',fontsize=16)\n",
    "ax.tick_params(axis='x', labelsize=14)\n",
    "ax.tick_params(axis='y', labelsize=14)\n",
    "ax.step(ts,trajs.T,\"--\",where=\"post\", linewidth=1.2, alpha=0.8)"
   ]
  },
  {
   "cell_type": "markdown",
   "metadata": {},
   "source": [
    "## Сложенный процесс Пуассона\n",
    "\n",
    "Сложенный процесс Пуассона обобщает идею Пуассоновского и считающего процесса, разрешая прыжки случайного размера и направления. Семплируется последовательность iid величин $Y_i$ из распределения $F$, параллельно независимо запускается Пуассоновский процесс $N_t$. Сложенный процесс получается как сумма случайного числа слагаемых\n",
    "$$\n",
    "X_t = \\sum_{i=1}^{N_t} Y_i.\n",
    "$$\n",
    "\n",
    "Мы уже умеем семплировать времена прыжков из Пуассоновского процесса, остаётся досемплировать сами прыжки."
   ]
  },
  {
   "cell_type": "code",
   "execution_count": null,
   "metadata": {},
   "outputs": [],
   "source": [
    "class CompoundPoissonProcess:\n",
    "    \n",
    "    def __init__(self, lam, Fsampler):\n",
    "        '''\n",
    "        Parameters\n",
    "        float lam -- intensity parameter of Poisson process\n",
    "        obj Fsampler -- sampler function taking N and returning N iid samples\n",
    "        '''\n",
    "        self.lam = lam\n",
    "        self.pois = PoissonProcess(self.lam)\n",
    "        self.sampler = Fsampler\n",
    "        \n",
    "    def sampleTrajs(self,N,T):\n",
    "        '''\n",
    "        Samples N trajectories of the process on range [0,T]\n",
    "    \n",
    "        Parameters\n",
    "        int N -- number of trajectories\n",
    "        float T -- the observation time (all larger sampling times will be deleted)\n",
    "    \n",
    "        Returns\n",
    "        list(list()), list(list()) -- jump times and values at jumps\n",
    "        '''\n",
    "        jumpTimes = #sample Poisson jump times\n",
    "        values = #construct values at jump times\n",
    "        return jumpTimes, values\n",
    "    \n",
    "    def interpolateTimes(self, ts, times, values):\n",
    "        '''\n",
    "        Performs nearest const interpolation\n",
    "        '''\n",
    "        #adjust interp1d from Poisson\n",
    "        pass     "
   ]
  },
  {
   "cell_type": "code",
   "execution_count": null,
   "metadata": {},
   "outputs": [],
   "source": [
    "mu=0.2\n",
    "sigma=np.sqrt(2)\n",
    "def normalSampler(N):\n",
    "    return np.random.normal(loc=mu,scale=sigma,size=(N,))\n",
    "\n",
    "lam = 2\n",
    "cpois = CompoundPoissonProcess(lam=lam, Fsampler=normalSampler)"
   ]
  },
  {
   "cell_type": "code",
   "execution_count": null,
   "metadata": {},
   "outputs": [],
   "source": [
    "N=3\n",
    "T=4\n",
    "times, values = cpois.sampleTrajs(N,T)\n",
    "trajs = cpois.interpolateTimes(ts, times, values)"
   ]
  },
  {
   "cell_type": "code",
   "execution_count": null,
   "metadata": {},
   "outputs": [],
   "source": [
    "f, ax = plt.subplots(figsize=(13,7))\n",
    "\n",
    "ax.grid()\n",
    "ax.set_title('Simulated trajectories of Compound Poisson process',fontsize=16)\n",
    "ax.set_xlabel('t, time',fontsize=16)\n",
    "ax.tick_params(axis='x', labelsize=14)\n",
    "ax.tick_params(axis='y', labelsize=14)\n",
    "ax.step(ts,trajs.T,\"--\",where=\"post\", linewidth=1.2, alpha=0.8)"
   ]
  },
  {
   "cell_type": "markdown",
   "metadata": {},
   "source": [
    "## Модель Мертона\n",
    "\n",
    "Модель Мертона совершенствует модель Броуновского движения, добавляя в показатель экспоненты сложенный Пуассоновский процесс:\n",
    "\n",
    "$$\n",
    "X_t = x_0\n",
    "$$"
   ]
  },
  {
   "cell_type": "code",
   "execution_count": null,
   "metadata": {},
   "outputs": [],
   "source": [
    "class MertonProcess:\n",
    "    \n",
    "    def __init__(self,mu,sigma,muJump,sigmaJump, lam):\n",
    "        self.mu = mu\n",
    "        self.sigma = sigma        \n",
    "        self.muJump = muJump\n",
    "        self.sigmaJump = sigmaJump\n",
    "        self.lam = lam\n",
    "        \n",
    "        def normalSampler(N):\n",
    "            return np.random.normal(loc=self.mu,scale=self.sigma,size=(N,))\n",
    "        self.cpois = CompoundPoissonProcess(self.lam,Fsampler=normalSampler)\n",
    "    \n",
    "    def sampleTrajs(self,x0,N,ts):\n",
    "        '''\n",
    "        Simulates trajectories of Merton model with parameters mu and sigma\n",
    "        \n",
    "        !Assuming ts[0]=0\n",
    "        \n",
    "        Input\n",
    "        float[] x0 -- initial price\n",
    "        float[] ts -- times\n",
    "        int Ntraj -- number of trajectories to simulate\n",
    "        Returns\n",
    "        float[] of shape (Ntraj,len(ts)) , trajectories\n",
    "        '''\n",
    "        try:\n",
    "                wienProcs = simulateWienerProcess(np.zeros(x0.shape),ts-ts[0],N)\n",
    "        except:\n",
    "                wienProcs = simulateWienerProcess(0,ts-ts[0],N)\n",
    "                \n",
    "        wienProcs = wienProcs[:,0,:]\n",
    "        print(wienProcs.shape)\n",
    "        cpoisTimes, cpoisValues = self.cpois.sampleTrajs(N,ts[-1])\n",
    "        cpoisTrajs = self.cpois.interpolateTimes(ts,cpoisTimes,cpoisValues)\n",
    "        print(cpoisTrajs.shape)\n",
    "        #print(wienProcs.shape)\n",
    "        xs = np.zeros( wienProcs.shape )\n",
    "        xs[...,0] = x0       \n",
    "        xs = x0 * np.exp((mu - sigma**2/2)*(ts-ts[0])[None,:] + sigma*wienProcs + cpoisTrajs)\n",
    "        return xs\n"
   ]
  },
  {
   "cell_type": "code",
   "execution_count": null,
   "metadata": {},
   "outputs": [],
   "source": [
    "mu=0.2\n",
    "sigma=np.sqrt(2)\n",
    "muJump = 0.2\n",
    "sigmaJump = 0.2\n",
    "def normalSampler(N):\n",
    "    return np.random.normal(loc=mu,scale=sigma,size=(N,))\n",
    "\n",
    "lam = 2\n",
    "mert = MertonProcess(mu, sigma, muJump, sigmaJump, lam)"
   ]
  },
  {
   "cell_type": "code",
   "execution_count": null,
   "metadata": {},
   "outputs": [],
   "source": [
    "N=10\n",
    "T=4\n",
    "Nt=200\n",
    "ts = np.arange(0,T + T/(2*Nt), T/Nt)\n",
    "x0=np.array([100])\n",
    "\n",
    "trajs = mert.sampleTrajs(x0,N,ts)"
   ]
  },
  {
   "cell_type": "code",
   "execution_count": null,
   "metadata": {},
   "outputs": [],
   "source": [
    "f, ax = plt.subplots(figsize=(13,7))\n",
    "\n",
    "ax.grid()\n",
    "ax.set_title('Simulated trajectories of Merton process',fontsize=16)\n",
    "ax.set_xlabel('t, time',fontsize=16)\n",
    "ax.tick_params(axis='x', labelsize=14)\n",
    "ax.tick_params(axis='y', labelsize=14)\n",
    "ax.plot(ts,trajs.T,\"--\", linewidth=1.2, alpha=0.8)\n",
    "ax.set_yscale(\"log\")"
   ]
  },
  {
   "cell_type": "code",
   "execution_count": null,
   "metadata": {},
   "outputs": [],
   "source": []
  }
 ],
 "metadata": {
  "kernelspec": {
   "display_name": "pyAudio",
   "language": "python",
   "name": "python3"
  },
  "language_info": {
   "codemirror_mode": {
    "name": "ipython",
    "version": 3
   },
   "file_extension": ".py",
   "mimetype": "text/x-python",
   "name": "python",
   "nbconvert_exporter": "python",
   "pygments_lexer": "ipython3",
   "version": "3.8.16"
  }
 },
 "nbformat": 4,
 "nbformat_minor": 2
}
